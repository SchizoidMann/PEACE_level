{
 "cells": [
  {
   "cell_type": "code",
   "execution_count": 1,
   "id": "ca0b31a6",
   "metadata": {},
   "outputs": [],
   "source": [
    "import pandas as pd\n",
    "import numpy as np\n",
    "import nltk\n",
    "import random\n",
    "import string\n",
    "import re"
   ]
  },
  {
   "cell_type": "code",
   "execution_count": 42,
   "id": "3b92421b",
   "metadata": {},
   "outputs": [],
   "source": [
    "#Canada\n",
    "ca = pd.read_csv('/Users/Rebecca/Desktop/PEACE/data/5_domestic_filter_Ngram_stopwords_lemmatize/CA_domestic_Ngram_stopword_lematize.csv')"
   ]
  },
  {
   "cell_type": "code",
   "execution_count": 3,
   "id": "adb81715",
   "metadata": {},
   "outputs": [
    {
     "name": "stdout",
     "output_type": "stream",
     "text": [
      "73870\n"
     ]
    },
    {
     "data": {
      "text/html": [
       "<div>\n",
       "<style scoped>\n",
       "    .dataframe tbody tr th:only-of-type {\n",
       "        vertical-align: middle;\n",
       "    }\n",
       "\n",
       "    .dataframe tbody tr th {\n",
       "        vertical-align: top;\n",
       "    }\n",
       "\n",
       "    .dataframe thead th {\n",
       "        text-align: right;\n",
       "    }\n",
       "</style>\n",
       "<table border=\"1\" class=\"dataframe\">\n",
       "  <thead>\n",
       "    <tr style=\"text-align: right;\">\n",
       "      <th></th>\n",
       "      <th>Unnamed: 0</th>\n",
       "      <th>article_id</th>\n",
       "      <th>article_title</th>\n",
       "      <th>publisher</th>\n",
       "      <th>year</th>\n",
       "      <th>article_text</th>\n",
       "      <th>country_mention</th>\n",
       "      <th>Domestic</th>\n",
       "      <th>article_text_Ngram</th>\n",
       "      <th>article_text_Ngram_stopword</th>\n",
       "      <th>article_text_Ngram_stopword_lemmatize</th>\n",
       "    </tr>\n",
       "  </thead>\n",
       "  <tbody>\n",
       "    <tr>\n",
       "      <th>0</th>\n",
       "      <td>0</td>\n",
       "      <td>51292143</td>\n",
       "      <td>Edibles, extracts and topicals will be offered...</td>\n",
       "      <td>prpeak.com</td>\n",
       "      <td>2019</td>\n",
       "      <td>The province is now distributing new categori...</td>\n",
       "      <td>[('Canada', 1), ('United States', 1), ('Canada...</td>\n",
       "      <td>True</td>\n",
       "      <td>The province is now distributing new categori...</td>\n",
       "      <td>The province distributing new categories legal...</td>\n",
       "      <td>The province distribute new category legal non...</td>\n",
       "    </tr>\n",
       "    <tr>\n",
       "      <th>1</th>\n",
       "      <td>1</td>\n",
       "      <td>51037626</td>\n",
       "      <td>Intelligence official charged seemed to be 'ex...</td>\n",
       "      <td>prpeak.com</td>\n",
       "      <td>2019</td>\n",
       "      <td>Ortis , 47 , was charged under three sections...</td>\n",
       "      <td>[('United States', 1), ('Canada', 1), ('France...</td>\n",
       "      <td>True</td>\n",
       "      <td>Ortis , 47 , was charged under three sections...</td>\n",
       "      <td>Ortis , 47 , charged three sections Security I...</td>\n",
       "      <td>Ortis 47 charge three section Security Informa...</td>\n",
       "    </tr>\n",
       "    <tr>\n",
       "      <th>2</th>\n",
       "      <td>2</td>\n",
       "      <td>51008947</td>\n",
       "      <td>Georgia GOP Sen. Isakson to retire over health...</td>\n",
       "      <td>prpeak.com</td>\n",
       "      <td>2019</td>\n",
       "      <td>ATLANTA Republican Sen. Johnny Isakson's anno...</td>\n",
       "      <td>[('Georgia', 15), ('United Kingdom', 1), ('Aus...</td>\n",
       "      <td>True</td>\n",
       "      <td>ATLANTA Republican Sen. Johnny Isakson's anno...</td>\n",
       "      <td>ATLANTA Republican Sen. Johnny Isakson 's anno...</td>\n",
       "      <td>ATLANTA Republican Sen. Johnny Isakson 's anno...</td>\n",
       "    </tr>\n",
       "    <tr>\n",
       "      <th>3</th>\n",
       "      <td>4</td>\n",
       "      <td>51220423</td>\n",
       "      <td>Around Powell River: Community listings | Powe...</td>\n",
       "      <td>prpeak.com</td>\n",
       "      <td>2019</td>\n",
       "      <td>Powell River Aikikai , self defence , the art...</td>\n",
       "      <td>[('Canada', 1), ('United States', 1), ('Canada...</td>\n",
       "      <td>True</td>\n",
       "      <td>Powell River Aikikai , self defence , the art...</td>\n",
       "      <td>Powell River Aikikai , self defence , art peac...</td>\n",
       "      <td>Powell River Aikikai self defence art peace in...</td>\n",
       "    </tr>\n",
       "    <tr>\n",
       "      <th>4</th>\n",
       "      <td>5</td>\n",
       "      <td>51159318</td>\n",
       "      <td>President of Cannabis NB says it will take mor...</td>\n",
       "      <td>prpeak.com</td>\n",
       "      <td>2019</td>\n",
       "      <td>President of Cannabis NB says it will take mo...</td>\n",
       "      <td>[('Canada', 1), ('Australia', 1), ('United Sta...</td>\n",
       "      <td>True</td>\n",
       "      <td>President of Cannabis NB says it will take mo...</td>\n",
       "      <td>President Cannabis NB says take time profitabl...</td>\n",
       "      <td>President Cannabis NB say take time profitable...</td>\n",
       "    </tr>\n",
       "  </tbody>\n",
       "</table>\n",
       "</div>"
      ],
      "text/plain": [
       "   Unnamed: 0  article_id                                      article_title  \\\n",
       "0           0    51292143  Edibles, extracts and topicals will be offered...   \n",
       "1           1    51037626  Intelligence official charged seemed to be 'ex...   \n",
       "2           2    51008947  Georgia GOP Sen. Isakson to retire over health...   \n",
       "3           4    51220423  Around Powell River: Community listings | Powe...   \n",
       "4           5    51159318  President of Cannabis NB says it will take mor...   \n",
       "\n",
       "    publisher  year                                       article_text  \\\n",
       "0  prpeak.com  2019   The province is now distributing new categori...   \n",
       "1  prpeak.com  2019   Ortis , 47 , was charged under three sections...   \n",
       "2  prpeak.com  2019   ATLANTA Republican Sen. Johnny Isakson's anno...   \n",
       "3  prpeak.com  2019   Powell River Aikikai , self defence , the art...   \n",
       "4  prpeak.com  2019   President of Cannabis NB says it will take mo...   \n",
       "\n",
       "                                     country_mention  Domestic  \\\n",
       "0  [('Canada', 1), ('United States', 1), ('Canada...      True   \n",
       "1  [('United States', 1), ('Canada', 1), ('France...      True   \n",
       "2  [('Georgia', 15), ('United Kingdom', 1), ('Aus...      True   \n",
       "3  [('Canada', 1), ('United States', 1), ('Canada...      True   \n",
       "4  [('Canada', 1), ('Australia', 1), ('United Sta...      True   \n",
       "\n",
       "                                  article_text_Ngram  \\\n",
       "0   The province is now distributing new categori...   \n",
       "1   Ortis , 47 , was charged under three sections...   \n",
       "2   ATLANTA Republican Sen. Johnny Isakson's anno...   \n",
       "3   Powell River Aikikai , self defence , the art...   \n",
       "4   President of Cannabis NB says it will take mo...   \n",
       "\n",
       "                         article_text_Ngram_stopword  \\\n",
       "0  The province distributing new categories legal...   \n",
       "1  Ortis , 47 , charged three sections Security I...   \n",
       "2  ATLANTA Republican Sen. Johnny Isakson 's anno...   \n",
       "3  Powell River Aikikai , self defence , art peac...   \n",
       "4  President Cannabis NB says take time profitabl...   \n",
       "\n",
       "               article_text_Ngram_stopword_lemmatize  \n",
       "0  The province distribute new category legal non...  \n",
       "1  Ortis 47 charge three section Security Informa...  \n",
       "2  ATLANTA Republican Sen. Johnny Isakson 's anno...  \n",
       "3  Powell River Aikikai self defence art peace in...  \n",
       "4  President Cannabis NB say take time profitable...  "
      ]
     },
     "execution_count": 3,
     "metadata": {},
     "output_type": "execute_result"
    }
   ],
   "source": [
    "print(len(ca))\n",
    "ca.head()"
   ]
  },
  {
   "cell_type": "code",
   "execution_count": 5,
   "id": "bbb22a6b",
   "metadata": {},
   "outputs": [],
   "source": [
    "import spacy"
   ]
  },
  {
   "cell_type": "code",
   "execution_count": 43,
   "id": "0235f632",
   "metadata": {},
   "outputs": [],
   "source": [
    "nlp = spacy.load('en_core_web_sm')\n"
   ]
  },
  {
   "cell_type": "code",
   "execution_count": 44,
   "id": "f65d607b",
   "metadata": {},
   "outputs": [],
   "source": [
    "text = ca['article_text_Ngram']\n",
    "ca['text']=\"\"\n",
    "ca['text_2']=\"\""
   ]
  },
  {
   "cell_type": "code",
   "execution_count": 15,
   "id": "6756124d",
   "metadata": {},
   "outputs": [],
   "source": [
    "#new_text=\" \".join(text_no_namedentities)\n",
    "#new_text_ = remove_names(new_text)"
   ]
  },
  {
   "cell_type": "code",
   "execution_count": 18,
   "id": "a1966950",
   "metadata": {},
   "outputs": [],
   "source": [
    "#document = nlp(text_3)\n",
    "#text_no_namedentities = []\n",
    "\n",
    "#ents = [e.text for e in document.ents]\n",
    "#for item in document:\n",
    " #   if item.text in ents:\n",
    "  #      pass\n",
    "   # else:\n",
    "    #    text_no_namedentities.append(item.text)\n",
    "#print(\" \".join(text_no_namedentities))"
   ]
  },
  {
   "cell_type": "code",
   "execution_count": 13,
   "id": "799c5e91",
   "metadata": {},
   "outputs": [],
   "source": [
    "def remove_names(text):\n",
    "    doc = nlp(text)\n",
    "    newString = text\n",
    "    for e in reversed(doc.ents):\n",
    "        if e.label_ == \"PERSON\": # Only if the entity is a PERSON\n",
    "            newString = newString[:e.start_char] + newString[e.start_char + len(e.text):]\n",
    "    return newString\n"
   ]
  },
  {
   "cell_type": "code",
   "execution_count": 25,
   "id": "8d9a6506",
   "metadata": {},
   "outputs": [],
   "source": [
    "#ca=ca[:10]"
   ]
  },
  {
   "cell_type": "code",
   "execution_count": 35,
   "id": "80ddfa7c",
   "metadata": {},
   "outputs": [],
   "source": [
    "\n",
    "def remove_place(text):\n",
    "    document=nlp(text)\n",
    "    #newString = []\n",
    "    text_no_namedentities=[]\n",
    "    ents = [e.text for e in document.ents]\n",
    "    for item in document:\n",
    "        if item.text in ents:\n",
    "            pass\n",
    "        else:\n",
    "            text_no_namedentities.append(item.text)\n",
    "    return \" \".join(text_no_namedentities)"
   ]
  },
  {
   "cell_type": "code",
   "execution_count": 17,
   "id": "a99b55b3",
   "metadata": {},
   "outputs": [
    {
     "data": {
      "text/plain": [
       "\"  Sen. 's announcement that he will retire at year 's end because of health problems instantly raised 's status as a must watch battleground by ensuring both of its seats will be on the ballot . 's pending departure after more than decades in politics gives a surprise opening in a state where the 's lock on statewide elections has shown signs of slipping . The state 's junior senator ,  , is already a top target as he seeks reelection for the time next year . , , said he is leaving the job he loves because mounting health issues , including 's disease , are taking their toll . He won a term in and would have faced reelection in . I have concluded that I will not be able to do the job over the long term in the manner the citizens of deserve , said in a statement . It goes against every fiber of my being to I know it 's the right thing to do on behalf of my state . The November ballot in will now include a special election for the remaining two of 's term in addition to 's race for another six year term . It 's a doubly tantalizing target for who increasingly believe that , which has become less rural and less white in recent decades , stands on the verge of becoming a swing state after roughly two decades of leaning solidly . is going to be a major decision maker in the reelection of  and control of the now , said  , a political adviser in who served as communications director under former . Nathan Deal . It 's an uphill battle for , who have n't elected a governor or senator since .  was the last presidential candidate to win here , in . But statewide races have become more competitive in recent elections in , compared with his double digit victory margins in other Deep South states . In last fall 's race for governor ,  beat  by just over 1 % of the vote . This is yet another seat will need to defend next year in an increasingly competitive battleground , said  , a spokesman for the Senatorial Campaign Committee . Kemp gets to appoint 's replacement , who will serve until the special election . plans to step down in . There will be no primary elections for seat , meaning the November contest will be open to qualified candidates from all political parties . That could significantly increase the likelihood of a runoff , required by law if no candidate receives over 50 % of votes . Former White House official  , who recently returned to , said in an email that he wo n't offer himself for the seat . strategists say other potential candidates include Reps .  and  and Attorney General  . This is a very short sprint to the election , said . You 're going to need somebody who 's a proven fundraiser , has a good built in network and already has some knowledge of the issues . That narrows the field somewhat . have already declared their candidacy for 's seat . , who had been wooed to run against , will not be a candidate for 's seat , a spokesman said on Twitter . She will instead continue to focus on voter access issues in and nationally . As chairman of the Veterans Affairs Committee , has worked to expand programs offering more private health care choices for veterans . He said he plans to return to when the resumes next month . But deteriorating health will keep him from staying long . was diagnosed with 's in . The chronic , progressive movement disorder often left him walking the 's corridors reelection in , underwent surgery the following year to address spinal deterioration . At times , he has been in a wheelchair . He 's been recovering from a July fall at his apartment that fractured ribs . And revealed that earlier this week he had surgery to remove a growth from one of his kidneys . Fellow senators from both parties saluted 's tenure . Sen.  ,  , called the gold standard for the . Sen.  of , the whip , said is one of our best . , who made millions of dollars in real estate , won election to the state legislature in . His as a lawmaker when still dominated politics shaped him into an affable consensus builder a style he clung to even as became bitterly partisan , said former Rep.  , a who worked with at both state and federal levels . There the other side to go to hell , said . always refrained from that . But he never was intimidated by those in power , whether it was Nancy Pelosi or  .\""
      ]
     },
     "execution_count": 17,
     "metadata": {},
     "output_type": "execute_result"
    }
   ],
   "source": [
    "#new_text_"
   ]
  },
  {
   "cell_type": "code",
   "execution_count": 45,
   "id": "4d4ee6b9",
   "metadata": {},
   "outputs": [],
   "source": [
    "ca['text']=text.apply(remove_place)\n",
    "ca['text_2']=ca['text'].apply(remove_names)\n",
    "ca = ca.drop(columns=['text'])"
   ]
  },
  {
   "cell_type": "code",
   "execution_count": 37,
   "id": "aa59dc42",
   "metadata": {},
   "outputs": [
    {
     "data": {
      "text/plain": [
       "0      The province is now distributing new categor...\n",
       "1      , , was charged under sections of the Securi...\n",
       "2      Sen. 's announcement that he will retire at ...\n",
       "3      Powell River , self defence , the art of pea...\n",
       "4      President of Cannabis NB says it will take m...\n",
       "5      Prime Minister Justin embraces Dominic as he...\n",
       "6      warns of government impersonation scam . Cal...\n",
       "7      say body of missing kayaker found near Powel...\n",
       "8      Dale appointed chair of Canadian Football Le...\n",
       "9      Ex medical officer loses fight to block rele...\n",
       "Name: text, dtype: object"
      ]
     },
     "execution_count": 37,
     "metadata": {},
     "output_type": "execute_result"
    }
   ],
   "source": [
    "ca['text']"
   ]
  },
  {
   "cell_type": "code",
   "execution_count": 46,
   "id": "c8e36d59",
   "metadata": {},
   "outputs": [],
   "source": []
  },
  {
   "cell_type": "code",
   "execution_count": 47,
   "id": "4862d480",
   "metadata": {},
   "outputs": [
    {
     "data": {
      "text/plain": [
       "\"  Sen. 's announcement that he will retire at year 's end because of health problems instantly raised 's status as a must watch battleground by ensuring both of its seats will be on the ballot . 's pending departure after more than decades in politics gives a surprise opening in a state where the 's lock on statewide elections has shown signs of slipping . The state 's junior senator ,  , is already a top target as he seeks reelection for the time next year . , , said he is leaving the job he loves because mounting health issues , including 's disease , are taking their toll . He won a term in and would have faced reelection in . I have concluded that I will not be able to do the job over the long term in the manner the citizens of deserve , said in a statement . It goes against every fiber of my being to I know it 's the right thing to do on behalf of my state . The November ballot in will now include a special election for the remaining two of 's term in addition to 's race for another six year term . It 's a doubly tantalizing target for who increasingly believe that , which has become less rural and less white in recent decades , stands on the verge of becoming a swing state after roughly two decades of leaning solidly . is going to be a major decision maker in the reelection of  and control of the now , said  , a political adviser in who served as communications director under former . Nathan Deal . It 's an uphill battle for , who have n't elected a governor or senator since .  was the last presidential candidate to win here , in . But statewide races have become more competitive in recent elections in , compared with his double digit victory margins in other Deep South states . In last fall 's race for governor ,  beat  by just over 1 % of the vote . This is yet another seat will need to defend next year in an increasingly competitive battleground , said  , a spokesman for the Senatorial Campaign Committee . Kemp gets to appoint 's replacement , who will serve until the special election . plans to step down in . There will be no primary elections for seat , meaning the November contest will be open to qualified candidates from all political parties . That could significantly increase the likelihood of a runoff , required by law if no candidate receives over 50 % of votes . Former White House official  , who recently returned to , said in an email that he wo n't offer himself for the seat . strategists say other potential candidates include Reps .  and  and Attorney General  . This is a very short sprint to the election , said . You 're going to need somebody who 's a proven fundraiser , has a good built in network and already has some knowledge of the issues . That narrows the field somewhat . have already declared their candidacy for 's seat . , who had been wooed to run against , will not be a candidate for 's seat , a spokesman said on Twitter . She will instead continue to focus on voter access issues in and nationally . As chairman of the Veterans Affairs Committee , has worked to expand programs offering more private health care choices for veterans . He said he plans to return to when the resumes next month . But deteriorating health will keep him from staying long . was diagnosed with 's in . The chronic , progressive movement disorder often left him walking the 's corridors reelection in , underwent surgery the following year to address spinal deterioration . At times , he has been in a wheelchair . He 's been recovering from a July fall at his apartment that fractured ribs . And revealed that earlier this week he had surgery to remove a growth from one of his kidneys . Fellow senators from both parties saluted 's tenure . Sen.  ,  , called the gold standard for the . Sen.  of , the whip , said is one of our best . , who made millions of dollars in real estate , won election to the state legislature in . His as a lawmaker when still dominated politics shaped him into an affable consensus builder a style he clung to even as became bitterly partisan , said former Rep.  , a who worked with at both state and federal levels . There the other side to go to hell , said . always refrained from that . But he never was intimidated by those in power , whether it was Nancy Pelosi or  .\""
      ]
     },
     "execution_count": 47,
     "metadata": {},
     "output_type": "execute_result"
    }
   ],
   "source": [
    "ca['text_2'][2]"
   ]
  },
  {
   "cell_type": "code",
   "execution_count": 50,
   "id": "0b805e53",
   "metadata": {},
   "outputs": [],
   "source": []
  },
  {
   "cell_type": "code",
   "execution_count": 55,
   "id": "f8de748c",
   "metadata": {},
   "outputs": [],
   "source": [
    "#save no named entities  data to csv\n",
    "ca.to_csv(\"CA2.csv\")"
   ]
  },
  {
   "cell_type": "code",
   "execution_count": 86,
   "id": "7174262f",
   "metadata": {},
   "outputs": [
    {
     "ename": "FileNotFoundError",
     "evalue": "[Errno 2] No such file or directory: '/Users/Rebecca/Desktop/PEACE/data/5_domestic_filter_Ngram_stopwords_lemmatize/SG_domestic_Ngram_stopword_lematize.csv'",
     "output_type": "error",
     "traceback": [
      "\u001b[0;31m---------------------------------------------------------------------------\u001b[0m",
      "\u001b[0;31mFileNotFoundError\u001b[0m                         Traceback (most recent call last)",
      "\u001b[0;32m/var/folders/f6/cw8ncfy124b8_ngrxb3g5bw40000gn/T/ipykernel_43231/1312465864.py\u001b[0m in \u001b[0;36m<module>\u001b[0;34m\u001b[0m\n\u001b[1;32m      1\u001b[0m \u001b[0;31m#load us, sg, and ph data\u001b[0m\u001b[0;34m\u001b[0m\u001b[0;34m\u001b[0m\u001b[0m\n\u001b[1;32m      2\u001b[0m \u001b[0mus\u001b[0m \u001b[0;34m=\u001b[0m \u001b[0mpd\u001b[0m\u001b[0;34m.\u001b[0m\u001b[0mread_csv\u001b[0m\u001b[0;34m(\u001b[0m\u001b[0;34m'/Users/Rebecca/Desktop/PEACE/data/5_domestic_filter_Ngram_stopwords_lemmatize/US_domestic_Ngram_stopword_lematize.csv'\u001b[0m\u001b[0;34m)\u001b[0m\u001b[0;34m\u001b[0m\u001b[0;34m\u001b[0m\u001b[0m\n\u001b[0;32m----> 3\u001b[0;31m \u001b[0msg\u001b[0m \u001b[0;34m=\u001b[0m \u001b[0mpd\u001b[0m\u001b[0;34m.\u001b[0m\u001b[0mread_csv\u001b[0m\u001b[0;34m(\u001b[0m\u001b[0;34m'/Users/Rebecca/Desktop/PEACE/data/5_domestic_filter_Ngram_stopwords_lemmatize/SG_domestic_Ngram_stopword_lematize.csv'\u001b[0m\u001b[0;34m)\u001b[0m\u001b[0;34m\u001b[0m\u001b[0;34m\u001b[0m\u001b[0m\n\u001b[0m\u001b[1;32m      4\u001b[0m \u001b[0mph\u001b[0m \u001b[0;34m=\u001b[0m \u001b[0mpd\u001b[0m\u001b[0;34m.\u001b[0m\u001b[0mread_csv\u001b[0m\u001b[0;34m(\u001b[0m\u001b[0;34m'/Users/Rebecca/Desktop/PEACE/data/5_domestic_filter_Ngram_stopwords_lemmatize/PH_domestic_Ngram_stopword_lematize.csv'\u001b[0m\u001b[0;34m)\u001b[0m\u001b[0;34m\u001b[0m\u001b[0;34m\u001b[0m\u001b[0m\n",
      "\u001b[0;32m~/opt/anaconda3/lib/python3.9/site-packages/pandas/util/_decorators.py\u001b[0m in \u001b[0;36mwrapper\u001b[0;34m(*args, **kwargs)\u001b[0m\n\u001b[1;32m    309\u001b[0m                     \u001b[0mstacklevel\u001b[0m\u001b[0;34m=\u001b[0m\u001b[0mstacklevel\u001b[0m\u001b[0;34m,\u001b[0m\u001b[0;34m\u001b[0m\u001b[0;34m\u001b[0m\u001b[0m\n\u001b[1;32m    310\u001b[0m                 )\n\u001b[0;32m--> 311\u001b[0;31m             \u001b[0;32mreturn\u001b[0m \u001b[0mfunc\u001b[0m\u001b[0;34m(\u001b[0m\u001b[0;34m*\u001b[0m\u001b[0margs\u001b[0m\u001b[0;34m,\u001b[0m \u001b[0;34m**\u001b[0m\u001b[0mkwargs\u001b[0m\u001b[0;34m)\u001b[0m\u001b[0;34m\u001b[0m\u001b[0;34m\u001b[0m\u001b[0m\n\u001b[0m\u001b[1;32m    312\u001b[0m \u001b[0;34m\u001b[0m\u001b[0m\n\u001b[1;32m    313\u001b[0m         \u001b[0;32mreturn\u001b[0m \u001b[0mwrapper\u001b[0m\u001b[0;34m\u001b[0m\u001b[0;34m\u001b[0m\u001b[0m\n",
      "\u001b[0;32m~/opt/anaconda3/lib/python3.9/site-packages/pandas/io/parsers/readers.py\u001b[0m in \u001b[0;36mread_csv\u001b[0;34m(filepath_or_buffer, sep, delimiter, header, names, index_col, usecols, squeeze, prefix, mangle_dupe_cols, dtype, engine, converters, true_values, false_values, skipinitialspace, skiprows, skipfooter, nrows, na_values, keep_default_na, na_filter, verbose, skip_blank_lines, parse_dates, infer_datetime_format, keep_date_col, date_parser, dayfirst, cache_dates, iterator, chunksize, compression, thousands, decimal, lineterminator, quotechar, quoting, doublequote, escapechar, comment, encoding, encoding_errors, dialect, error_bad_lines, warn_bad_lines, on_bad_lines, delim_whitespace, low_memory, memory_map, float_precision, storage_options)\u001b[0m\n\u001b[1;32m    584\u001b[0m     \u001b[0mkwds\u001b[0m\u001b[0;34m.\u001b[0m\u001b[0mupdate\u001b[0m\u001b[0;34m(\u001b[0m\u001b[0mkwds_defaults\u001b[0m\u001b[0;34m)\u001b[0m\u001b[0;34m\u001b[0m\u001b[0;34m\u001b[0m\u001b[0m\n\u001b[1;32m    585\u001b[0m \u001b[0;34m\u001b[0m\u001b[0m\n\u001b[0;32m--> 586\u001b[0;31m     \u001b[0;32mreturn\u001b[0m \u001b[0m_read\u001b[0m\u001b[0;34m(\u001b[0m\u001b[0mfilepath_or_buffer\u001b[0m\u001b[0;34m,\u001b[0m \u001b[0mkwds\u001b[0m\u001b[0;34m)\u001b[0m\u001b[0;34m\u001b[0m\u001b[0;34m\u001b[0m\u001b[0m\n\u001b[0m\u001b[1;32m    587\u001b[0m \u001b[0;34m\u001b[0m\u001b[0m\n\u001b[1;32m    588\u001b[0m \u001b[0;34m\u001b[0m\u001b[0m\n",
      "\u001b[0;32m~/opt/anaconda3/lib/python3.9/site-packages/pandas/io/parsers/readers.py\u001b[0m in \u001b[0;36m_read\u001b[0;34m(filepath_or_buffer, kwds)\u001b[0m\n\u001b[1;32m    480\u001b[0m \u001b[0;34m\u001b[0m\u001b[0m\n\u001b[1;32m    481\u001b[0m     \u001b[0;31m# Create the parser.\u001b[0m\u001b[0;34m\u001b[0m\u001b[0;34m\u001b[0m\u001b[0m\n\u001b[0;32m--> 482\u001b[0;31m     \u001b[0mparser\u001b[0m \u001b[0;34m=\u001b[0m \u001b[0mTextFileReader\u001b[0m\u001b[0;34m(\u001b[0m\u001b[0mfilepath_or_buffer\u001b[0m\u001b[0;34m,\u001b[0m \u001b[0;34m**\u001b[0m\u001b[0mkwds\u001b[0m\u001b[0;34m)\u001b[0m\u001b[0;34m\u001b[0m\u001b[0;34m\u001b[0m\u001b[0m\n\u001b[0m\u001b[1;32m    483\u001b[0m \u001b[0;34m\u001b[0m\u001b[0m\n\u001b[1;32m    484\u001b[0m     \u001b[0;32mif\u001b[0m \u001b[0mchunksize\u001b[0m \u001b[0;32mor\u001b[0m \u001b[0miterator\u001b[0m\u001b[0;34m:\u001b[0m\u001b[0;34m\u001b[0m\u001b[0;34m\u001b[0m\u001b[0m\n",
      "\u001b[0;32m~/opt/anaconda3/lib/python3.9/site-packages/pandas/io/parsers/readers.py\u001b[0m in \u001b[0;36m__init__\u001b[0;34m(self, f, engine, **kwds)\u001b[0m\n\u001b[1;32m    809\u001b[0m             \u001b[0mself\u001b[0m\u001b[0;34m.\u001b[0m\u001b[0moptions\u001b[0m\u001b[0;34m[\u001b[0m\u001b[0;34m\"has_index_names\"\u001b[0m\u001b[0;34m]\u001b[0m \u001b[0;34m=\u001b[0m \u001b[0mkwds\u001b[0m\u001b[0;34m[\u001b[0m\u001b[0;34m\"has_index_names\"\u001b[0m\u001b[0;34m]\u001b[0m\u001b[0;34m\u001b[0m\u001b[0;34m\u001b[0m\u001b[0m\n\u001b[1;32m    810\u001b[0m \u001b[0;34m\u001b[0m\u001b[0m\n\u001b[0;32m--> 811\u001b[0;31m         \u001b[0mself\u001b[0m\u001b[0;34m.\u001b[0m\u001b[0m_engine\u001b[0m \u001b[0;34m=\u001b[0m \u001b[0mself\u001b[0m\u001b[0;34m.\u001b[0m\u001b[0m_make_engine\u001b[0m\u001b[0;34m(\u001b[0m\u001b[0mself\u001b[0m\u001b[0;34m.\u001b[0m\u001b[0mengine\u001b[0m\u001b[0;34m)\u001b[0m\u001b[0;34m\u001b[0m\u001b[0;34m\u001b[0m\u001b[0m\n\u001b[0m\u001b[1;32m    812\u001b[0m \u001b[0;34m\u001b[0m\u001b[0m\n\u001b[1;32m    813\u001b[0m     \u001b[0;32mdef\u001b[0m \u001b[0mclose\u001b[0m\u001b[0;34m(\u001b[0m\u001b[0mself\u001b[0m\u001b[0;34m)\u001b[0m\u001b[0;34m:\u001b[0m\u001b[0;34m\u001b[0m\u001b[0;34m\u001b[0m\u001b[0m\n",
      "\u001b[0;32m~/opt/anaconda3/lib/python3.9/site-packages/pandas/io/parsers/readers.py\u001b[0m in \u001b[0;36m_make_engine\u001b[0;34m(self, engine)\u001b[0m\n\u001b[1;32m   1038\u001b[0m             )\n\u001b[1;32m   1039\u001b[0m         \u001b[0;31m# error: Too many arguments for \"ParserBase\"\u001b[0m\u001b[0;34m\u001b[0m\u001b[0;34m\u001b[0m\u001b[0m\n\u001b[0;32m-> 1040\u001b[0;31m         \u001b[0;32mreturn\u001b[0m \u001b[0mmapping\u001b[0m\u001b[0;34m[\u001b[0m\u001b[0mengine\u001b[0m\u001b[0;34m]\u001b[0m\u001b[0;34m(\u001b[0m\u001b[0mself\u001b[0m\u001b[0;34m.\u001b[0m\u001b[0mf\u001b[0m\u001b[0;34m,\u001b[0m \u001b[0;34m**\u001b[0m\u001b[0mself\u001b[0m\u001b[0;34m.\u001b[0m\u001b[0moptions\u001b[0m\u001b[0;34m)\u001b[0m  \u001b[0;31m# type: ignore[call-arg]\u001b[0m\u001b[0;34m\u001b[0m\u001b[0;34m\u001b[0m\u001b[0m\n\u001b[0m\u001b[1;32m   1041\u001b[0m \u001b[0;34m\u001b[0m\u001b[0m\n\u001b[1;32m   1042\u001b[0m     \u001b[0;32mdef\u001b[0m \u001b[0m_failover_to_python\u001b[0m\u001b[0;34m(\u001b[0m\u001b[0mself\u001b[0m\u001b[0;34m)\u001b[0m\u001b[0;34m:\u001b[0m\u001b[0;34m\u001b[0m\u001b[0;34m\u001b[0m\u001b[0m\n",
      "\u001b[0;32m~/opt/anaconda3/lib/python3.9/site-packages/pandas/io/parsers/c_parser_wrapper.py\u001b[0m in \u001b[0;36m__init__\u001b[0;34m(self, src, **kwds)\u001b[0m\n\u001b[1;32m     49\u001b[0m \u001b[0;34m\u001b[0m\u001b[0m\n\u001b[1;32m     50\u001b[0m         \u001b[0;31m# open handles\u001b[0m\u001b[0;34m\u001b[0m\u001b[0;34m\u001b[0m\u001b[0m\n\u001b[0;32m---> 51\u001b[0;31m         \u001b[0mself\u001b[0m\u001b[0;34m.\u001b[0m\u001b[0m_open_handles\u001b[0m\u001b[0;34m(\u001b[0m\u001b[0msrc\u001b[0m\u001b[0;34m,\u001b[0m \u001b[0mkwds\u001b[0m\u001b[0;34m)\u001b[0m\u001b[0;34m\u001b[0m\u001b[0;34m\u001b[0m\u001b[0m\n\u001b[0m\u001b[1;32m     52\u001b[0m         \u001b[0;32massert\u001b[0m \u001b[0mself\u001b[0m\u001b[0;34m.\u001b[0m\u001b[0mhandles\u001b[0m \u001b[0;32mis\u001b[0m \u001b[0;32mnot\u001b[0m \u001b[0;32mNone\u001b[0m\u001b[0;34m\u001b[0m\u001b[0;34m\u001b[0m\u001b[0m\n\u001b[1;32m     53\u001b[0m \u001b[0;34m\u001b[0m\u001b[0m\n",
      "\u001b[0;32m~/opt/anaconda3/lib/python3.9/site-packages/pandas/io/parsers/base_parser.py\u001b[0m in \u001b[0;36m_open_handles\u001b[0;34m(self, src, kwds)\u001b[0m\n\u001b[1;32m    220\u001b[0m         \u001b[0mLet\u001b[0m \u001b[0mthe\u001b[0m \u001b[0mreaders\u001b[0m \u001b[0mopen\u001b[0m \u001b[0mIOHandles\u001b[0m \u001b[0mafter\u001b[0m \u001b[0mthey\u001b[0m \u001b[0mare\u001b[0m \u001b[0mdone\u001b[0m \u001b[0;32mwith\u001b[0m \u001b[0mtheir\u001b[0m \u001b[0mpotential\u001b[0m \u001b[0mraises\u001b[0m\u001b[0;34m.\u001b[0m\u001b[0;34m\u001b[0m\u001b[0;34m\u001b[0m\u001b[0m\n\u001b[1;32m    221\u001b[0m         \"\"\"\n\u001b[0;32m--> 222\u001b[0;31m         self.handles = get_handle(\n\u001b[0m\u001b[1;32m    223\u001b[0m             \u001b[0msrc\u001b[0m\u001b[0;34m,\u001b[0m\u001b[0;34m\u001b[0m\u001b[0;34m\u001b[0m\u001b[0m\n\u001b[1;32m    224\u001b[0m             \u001b[0;34m\"r\"\u001b[0m\u001b[0;34m,\u001b[0m\u001b[0;34m\u001b[0m\u001b[0;34m\u001b[0m\u001b[0m\n",
      "\u001b[0;32m~/opt/anaconda3/lib/python3.9/site-packages/pandas/io/common.py\u001b[0m in \u001b[0;36mget_handle\u001b[0;34m(path_or_buf, mode, encoding, compression, memory_map, is_text, errors, storage_options)\u001b[0m\n\u001b[1;32m    700\u001b[0m         \u001b[0;32mif\u001b[0m \u001b[0mioargs\u001b[0m\u001b[0;34m.\u001b[0m\u001b[0mencoding\u001b[0m \u001b[0;32mand\u001b[0m \u001b[0;34m\"b\"\u001b[0m \u001b[0;32mnot\u001b[0m \u001b[0;32min\u001b[0m \u001b[0mioargs\u001b[0m\u001b[0;34m.\u001b[0m\u001b[0mmode\u001b[0m\u001b[0;34m:\u001b[0m\u001b[0;34m\u001b[0m\u001b[0;34m\u001b[0m\u001b[0m\n\u001b[1;32m    701\u001b[0m             \u001b[0;31m# Encoding\u001b[0m\u001b[0;34m\u001b[0m\u001b[0;34m\u001b[0m\u001b[0m\n\u001b[0;32m--> 702\u001b[0;31m             handle = open(\n\u001b[0m\u001b[1;32m    703\u001b[0m                 \u001b[0mhandle\u001b[0m\u001b[0;34m,\u001b[0m\u001b[0;34m\u001b[0m\u001b[0;34m\u001b[0m\u001b[0m\n\u001b[1;32m    704\u001b[0m                 \u001b[0mioargs\u001b[0m\u001b[0;34m.\u001b[0m\u001b[0mmode\u001b[0m\u001b[0;34m,\u001b[0m\u001b[0;34m\u001b[0m\u001b[0;34m\u001b[0m\u001b[0m\n",
      "\u001b[0;31mFileNotFoundError\u001b[0m: [Errno 2] No such file or directory: '/Users/Rebecca/Desktop/PEACE/data/5_domestic_filter_Ngram_stopwords_lemmatize/SG_domestic_Ngram_stopword_lematize.csv'"
     ]
    }
   ],
   "source": [
    "#load us, sg, and ph data\n",
    "us = pd.read_csv('/Users/Rebecca/Desktop/PEACE/data/5_domestic_filter_Ngram_stopwords_lemmatize/US_domestic_Ngram_stopword_lematize.csv')\n",
    "sg = pd.read_csv('/Users/Rebecca/Desktop/PEACE/data/5_domestic_filter_Ngram_stopwords_lemmatize/SG_domestic_Ngram_stopword_lematize.csv')\n",
    "ph = pd.read_csv('/Users/Rebecca/Desktop/PEACE/data/5_domestic_filter_Ngram_stopwords_lemmatize/PH_domestic_Ngram_stopword_lematize.csv')\n"
   ]
  },
  {
   "cell_type": "code",
   "execution_count": 48,
   "id": "6c251eab",
   "metadata": {},
   "outputs": [],
   "source": [
    "import collections\n",
    "def top_words(text):\n",
    "    counts = collections.Counter(text.lower().split())\n",
    "    return [elem for elem, _ in sorted(counts.most_common(),key=lambda x:(-x[1], x[0]))[:1000]]"
   ]
  },
  {
   "cell_type": "code",
   "execution_count": 49,
   "id": "1252a741",
   "metadata": {},
   "outputs": [],
   "source": [
    "def top_words_freq(text):\n",
    "    counts = collections.Counter(text.lower().split())\n",
    "    return [_ for elem, _ in sorted(counts.most_common(),key=lambda x:(-x[1], x[0]))[:1000]]"
   ]
  },
  {
   "cell_type": "code",
   "execution_count": 56,
   "id": "af458517",
   "metadata": {},
   "outputs": [],
   "source": [
    "CA = pd.read_csv('CA2.csv')"
   ]
  },
  {
   "cell_type": "code",
   "execution_count": 57,
   "id": "7058c8b7",
   "metadata": {},
   "outputs": [
    {
     "data": {
      "text/html": [
       "<div>\n",
       "<style scoped>\n",
       "    .dataframe tbody tr th:only-of-type {\n",
       "        vertical-align: middle;\n",
       "    }\n",
       "\n",
       "    .dataframe tbody tr th {\n",
       "        vertical-align: top;\n",
       "    }\n",
       "\n",
       "    .dataframe thead th {\n",
       "        text-align: right;\n",
       "    }\n",
       "</style>\n",
       "<table border=\"1\" class=\"dataframe\">\n",
       "  <thead>\n",
       "    <tr style=\"text-align: right;\">\n",
       "      <th></th>\n",
       "      <th>Unnamed: 0</th>\n",
       "      <th>Unnamed: 0.1</th>\n",
       "      <th>article_id</th>\n",
       "      <th>article_title</th>\n",
       "      <th>publisher</th>\n",
       "      <th>year</th>\n",
       "      <th>article_text</th>\n",
       "      <th>country_mention</th>\n",
       "      <th>Domestic</th>\n",
       "      <th>article_text_Ngram</th>\n",
       "      <th>article_text_Ngram_stopword</th>\n",
       "      <th>article_text_Ngram_stopword_lemmatize</th>\n",
       "      <th>text_2</th>\n",
       "    </tr>\n",
       "  </thead>\n",
       "  <tbody>\n",
       "    <tr>\n",
       "      <th>0</th>\n",
       "      <td>0</td>\n",
       "      <td>0</td>\n",
       "      <td>51292143</td>\n",
       "      <td>Edibles, extracts and topicals will be offered...</td>\n",
       "      <td>prpeak.com</td>\n",
       "      <td>2019</td>\n",
       "      <td>The province is now distributing new categori...</td>\n",
       "      <td>[('Canada', 1), ('United States', 1), ('Canada...</td>\n",
       "      <td>True</td>\n",
       "      <td>The province is now distributing new categori...</td>\n",
       "      <td>The province distributing new categories legal...</td>\n",
       "      <td>The province distribute new category legal non...</td>\n",
       "      <td>The province is now distributing new categor...</td>\n",
       "    </tr>\n",
       "    <tr>\n",
       "      <th>1</th>\n",
       "      <td>1</td>\n",
       "      <td>1</td>\n",
       "      <td>51037626</td>\n",
       "      <td>Intelligence official charged seemed to be 'ex...</td>\n",
       "      <td>prpeak.com</td>\n",
       "      <td>2019</td>\n",
       "      <td>Ortis , 47 , was charged under three sections...</td>\n",
       "      <td>[('United States', 1), ('Canada', 1), ('France...</td>\n",
       "      <td>True</td>\n",
       "      <td>Ortis , 47 , was charged under three sections...</td>\n",
       "      <td>Ortis , 47 , charged three sections Security I...</td>\n",
       "      <td>Ortis 47 charge three section Security Informa...</td>\n",
       "      <td>, , was charged under sections of the Securi...</td>\n",
       "    </tr>\n",
       "    <tr>\n",
       "      <th>2</th>\n",
       "      <td>2</td>\n",
       "      <td>2</td>\n",
       "      <td>51008947</td>\n",
       "      <td>Georgia GOP Sen. Isakson to retire over health...</td>\n",
       "      <td>prpeak.com</td>\n",
       "      <td>2019</td>\n",
       "      <td>ATLANTA Republican Sen. Johnny Isakson's anno...</td>\n",
       "      <td>[('Georgia', 15), ('United Kingdom', 1), ('Aus...</td>\n",
       "      <td>True</td>\n",
       "      <td>ATLANTA Republican Sen. Johnny Isakson's anno...</td>\n",
       "      <td>ATLANTA Republican Sen. Johnny Isakson 's anno...</td>\n",
       "      <td>ATLANTA Republican Sen. Johnny Isakson 's anno...</td>\n",
       "      <td>Sen. 's announcement that he will retire at ...</td>\n",
       "    </tr>\n",
       "    <tr>\n",
       "      <th>3</th>\n",
       "      <td>3</td>\n",
       "      <td>4</td>\n",
       "      <td>51220423</td>\n",
       "      <td>Around Powell River: Community listings | Powe...</td>\n",
       "      <td>prpeak.com</td>\n",
       "      <td>2019</td>\n",
       "      <td>Powell River Aikikai , self defence , the art...</td>\n",
       "      <td>[('Canada', 1), ('United States', 1), ('Canada...</td>\n",
       "      <td>True</td>\n",
       "      <td>Powell River Aikikai , self defence , the art...</td>\n",
       "      <td>Powell River Aikikai , self defence , art peac...</td>\n",
       "      <td>Powell River Aikikai self defence art peace in...</td>\n",
       "      <td>Powell River , self defence , the art of pea...</td>\n",
       "    </tr>\n",
       "    <tr>\n",
       "      <th>4</th>\n",
       "      <td>4</td>\n",
       "      <td>5</td>\n",
       "      <td>51159318</td>\n",
       "      <td>President of Cannabis NB says it will take mor...</td>\n",
       "      <td>prpeak.com</td>\n",
       "      <td>2019</td>\n",
       "      <td>President of Cannabis NB says it will take mo...</td>\n",
       "      <td>[('Canada', 1), ('Australia', 1), ('United Sta...</td>\n",
       "      <td>True</td>\n",
       "      <td>President of Cannabis NB says it will take mo...</td>\n",
       "      <td>President Cannabis NB says take time profitabl...</td>\n",
       "      <td>President Cannabis NB say take time profitable...</td>\n",
       "      <td>President of Cannabis NB says it will take m...</td>\n",
       "    </tr>\n",
       "  </tbody>\n",
       "</table>\n",
       "</div>"
      ],
      "text/plain": [
       "   Unnamed: 0  Unnamed: 0.1  article_id  \\\n",
       "0           0             0    51292143   \n",
       "1           1             1    51037626   \n",
       "2           2             2    51008947   \n",
       "3           3             4    51220423   \n",
       "4           4             5    51159318   \n",
       "\n",
       "                                       article_title   publisher  year  \\\n",
       "0  Edibles, extracts and topicals will be offered...  prpeak.com  2019   \n",
       "1  Intelligence official charged seemed to be 'ex...  prpeak.com  2019   \n",
       "2  Georgia GOP Sen. Isakson to retire over health...  prpeak.com  2019   \n",
       "3  Around Powell River: Community listings | Powe...  prpeak.com  2019   \n",
       "4  President of Cannabis NB says it will take mor...  prpeak.com  2019   \n",
       "\n",
       "                                        article_text  \\\n",
       "0   The province is now distributing new categori...   \n",
       "1   Ortis , 47 , was charged under three sections...   \n",
       "2   ATLANTA Republican Sen. Johnny Isakson's anno...   \n",
       "3   Powell River Aikikai , self defence , the art...   \n",
       "4   President of Cannabis NB says it will take mo...   \n",
       "\n",
       "                                     country_mention  Domestic  \\\n",
       "0  [('Canada', 1), ('United States', 1), ('Canada...      True   \n",
       "1  [('United States', 1), ('Canada', 1), ('France...      True   \n",
       "2  [('Georgia', 15), ('United Kingdom', 1), ('Aus...      True   \n",
       "3  [('Canada', 1), ('United States', 1), ('Canada...      True   \n",
       "4  [('Canada', 1), ('Australia', 1), ('United Sta...      True   \n",
       "\n",
       "                                  article_text_Ngram  \\\n",
       "0   The province is now distributing new categori...   \n",
       "1   Ortis , 47 , was charged under three sections...   \n",
       "2   ATLANTA Republican Sen. Johnny Isakson's anno...   \n",
       "3   Powell River Aikikai , self defence , the art...   \n",
       "4   President of Cannabis NB says it will take mo...   \n",
       "\n",
       "                         article_text_Ngram_stopword  \\\n",
       "0  The province distributing new categories legal...   \n",
       "1  Ortis , 47 , charged three sections Security I...   \n",
       "2  ATLANTA Republican Sen. Johnny Isakson 's anno...   \n",
       "3  Powell River Aikikai , self defence , art peac...   \n",
       "4  President Cannabis NB says take time profitabl...   \n",
       "\n",
       "               article_text_Ngram_stopword_lemmatize  \\\n",
       "0  The province distribute new category legal non...   \n",
       "1  Ortis 47 charge three section Security Informa...   \n",
       "2  ATLANTA Republican Sen. Johnny Isakson 's anno...   \n",
       "3  Powell River Aikikai self defence art peace in...   \n",
       "4  President Cannabis NB say take time profitable...   \n",
       "\n",
       "                                              text_2  \n",
       "0    The province is now distributing new categor...  \n",
       "1    , , was charged under sections of the Securi...  \n",
       "2    Sen. 's announcement that he will retire at ...  \n",
       "3    Powell River , self defence , the art of pea...  \n",
       "4    President of Cannabis NB says it will take m...  "
      ]
     },
     "execution_count": 57,
     "metadata": {},
     "output_type": "execute_result"
    }
   ],
   "source": [
    "CA.head()"
   ]
  },
  {
   "cell_type": "code",
   "execution_count": 59,
   "id": "44cb0e2a",
   "metadata": {},
   "outputs": [],
   "source": [
    "CA_word = pd.DataFrame(columns=['word','frequency'])\n",
    "Text = ' '.join(ca['text_2'].tolist())\n",
    "Text=re.sub(r'[^\\w\\s]', '', Text)"
   ]
  },
  {
   "cell_type": "code",
   "execution_count": 70,
   "id": "9a0db772",
   "metadata": {},
   "outputs": [],
   "source": [
    "#Text2=' '.join(ca['text_2'][:5].tolist())"
   ]
  },
  {
   "cell_type": "code",
   "execution_count": 81,
   "id": "1f800de8",
   "metadata": {},
   "outputs": [],
   "source": [
    "CA_word['word'] = top_words(Text)\n",
    "CA_word['frequency']=top_words_freq(Text)"
   ]
  },
  {
   "cell_type": "code",
   "execution_count": 82,
   "id": "70a37646",
   "metadata": {},
   "outputs": [
    {
     "data": {
      "text/html": [
       "<div>\n",
       "<style scoped>\n",
       "    .dataframe tbody tr th:only-of-type {\n",
       "        vertical-align: middle;\n",
       "    }\n",
       "\n",
       "    .dataframe tbody tr th {\n",
       "        vertical-align: top;\n",
       "    }\n",
       "\n",
       "    .dataframe thead th {\n",
       "        text-align: right;\n",
       "    }\n",
       "</style>\n",
       "<table border=\"1\" class=\"dataframe\">\n",
       "  <thead>\n",
       "    <tr style=\"text-align: right;\">\n",
       "      <th></th>\n",
       "      <th>word</th>\n",
       "      <th>frequency</th>\n",
       "    </tr>\n",
       "  </thead>\n",
       "  <tbody>\n",
       "    <tr>\n",
       "      <th>0</th>\n",
       "      <td>the</td>\n",
       "      <td>2913900</td>\n",
       "    </tr>\n",
       "    <tr>\n",
       "      <th>1</th>\n",
       "      <td>to</td>\n",
       "      <td>1453643</td>\n",
       "    </tr>\n",
       "    <tr>\n",
       "      <th>2</th>\n",
       "      <td>and</td>\n",
       "      <td>1388210</td>\n",
       "    </tr>\n",
       "    <tr>\n",
       "      <th>3</th>\n",
       "      <td>of</td>\n",
       "      <td>1344326</td>\n",
       "    </tr>\n",
       "    <tr>\n",
       "      <th>4</th>\n",
       "      <td>a</td>\n",
       "      <td>1199482</td>\n",
       "    </tr>\n",
       "    <tr>\n",
       "      <th>...</th>\n",
       "      <td>...</td>\n",
       "      <td>...</td>\n",
       "    </tr>\n",
       "    <tr>\n",
       "      <th>995</th>\n",
       "      <td>sector</td>\n",
       "      <td>5926</td>\n",
       "    </tr>\n",
       "    <tr>\n",
       "      <th>996</th>\n",
       "      <td>perhaps</td>\n",
       "      <td>5925</td>\n",
       "    </tr>\n",
       "    <tr>\n",
       "      <th>997</th>\n",
       "      <td>increased</td>\n",
       "      <td>5922</td>\n",
       "    </tr>\n",
       "    <tr>\n",
       "      <th>998</th>\n",
       "      <td>range</td>\n",
       "      <td>5920</td>\n",
       "    </tr>\n",
       "    <tr>\n",
       "      <th>999</th>\n",
       "      <td>official</td>\n",
       "      <td>5912</td>\n",
       "    </tr>\n",
       "  </tbody>\n",
       "</table>\n",
       "<p>1000 rows × 2 columns</p>\n",
       "</div>"
      ],
      "text/plain": [
       "          word  frequency\n",
       "0          the    2913900\n",
       "1           to    1453643\n",
       "2          and    1388210\n",
       "3           of    1344326\n",
       "4            a    1199482\n",
       "..         ...        ...\n",
       "995     sector       5926\n",
       "996    perhaps       5925\n",
       "997  increased       5922\n",
       "998      range       5920\n",
       "999   official       5912\n",
       "\n",
       "[1000 rows x 2 columns]"
      ]
     },
     "execution_count": 82,
     "metadata": {},
     "output_type": "execute_result"
    }
   ],
   "source": [
    "CA_word"
   ]
  },
  {
   "cell_type": "code",
   "execution_count": 83,
   "id": "8741694a",
   "metadata": {},
   "outputs": [],
   "source": [
    "CA_word.to_csv(\"CA_word.csv\")"
   ]
  },
  {
   "cell_type": "code",
   "execution_count": 87,
   "id": "dd126858",
   "metadata": {},
   "outputs": [
    {
     "name": "stdout",
     "output_type": "stream",
     "text": [
      "67406\n"
     ]
    },
    {
     "data": {
      "text/html": [
       "<div>\n",
       "<style scoped>\n",
       "    .dataframe tbody tr th:only-of-type {\n",
       "        vertical-align: middle;\n",
       "    }\n",
       "\n",
       "    .dataframe tbody tr th {\n",
       "        vertical-align: top;\n",
       "    }\n",
       "\n",
       "    .dataframe thead th {\n",
       "        text-align: right;\n",
       "    }\n",
       "</style>\n",
       "<table border=\"1\" class=\"dataframe\">\n",
       "  <thead>\n",
       "    <tr style=\"text-align: right;\">\n",
       "      <th></th>\n",
       "      <th>Unnamed: 0</th>\n",
       "      <th>article_id</th>\n",
       "      <th>article_title</th>\n",
       "      <th>publisher</th>\n",
       "      <th>year</th>\n",
       "      <th>article_text</th>\n",
       "      <th>country_mention</th>\n",
       "      <th>Domestic</th>\n",
       "      <th>article_text_Ngram</th>\n",
       "      <th>article_text_Ngram_stopword</th>\n",
       "      <th>article_text_Ngram_stopword_lemmatize</th>\n",
       "    </tr>\n",
       "  </thead>\n",
       "  <tbody>\n",
       "    <tr>\n",
       "      <th>0</th>\n",
       "      <td>1</td>\n",
       "      <td>2047596</td>\n",
       "      <td>Francis and the 'Culture of Encounter'</td>\n",
       "      <td>National Catholic Reporter</td>\n",
       "      <td>2013</td>\n",
       "      <td>Francis and the' Culture of Encounter'. All p...</td>\n",
       "      <td>[('Italy', 1), ('Brazil', 1), ('China', 1), ('...</td>\n",
       "      <td>True</td>\n",
       "      <td>Francis and the' Culture of Encounter'. All p...</td>\n",
       "      <td>Francis ' Culture Encounter ' . All popes tend...</td>\n",
       "      <td>Francis Culture Encounter All pope tend couple...</td>\n",
       "    </tr>\n",
       "    <tr>\n",
       "      <th>1</th>\n",
       "      <td>2</td>\n",
       "      <td>109921</td>\n",
       "      <td>Papabile of the Day: The Men Who Could Be Pope</td>\n",
       "      <td>National Catholic Reporter</td>\n",
       "      <td>2013</td>\n",
       "      <td>Papabile of the Day The Men Who Could Be Pope...</td>\n",
       "      <td>[('United Kingdom', 1), ('United States', 1), ...</td>\n",
       "      <td>True</td>\n",
       "      <td>Papabile of the Day The Men Who Could Be Pope...</td>\n",
       "      <td>Papabile Day The Men Who Could Be Pope . John ...</td>\n",
       "      <td>Papabile Day The Men Who Could Be Pope John Al...</td>\n",
       "    </tr>\n",
       "    <tr>\n",
       "      <th>2</th>\n",
       "      <td>3</td>\n",
       "      <td>73202</td>\n",
       "      <td>We can become God's prophets through love</td>\n",
       "      <td>National Catholic Reporter</td>\n",
       "      <td>2013</td>\n",
       "      <td>We can become God's prophets through love. Th...</td>\n",
       "      <td>[('United States', 1), ('Canada', 1), ('Hungar...</td>\n",
       "      <td>True</td>\n",
       "      <td>We can become God's prophets through love. Th...</td>\n",
       "      <td>We become God 's prophets love . The first les...</td>\n",
       "      <td>We become God 's prophet love The first lesson...</td>\n",
       "    </tr>\n",
       "    <tr>\n",
       "      <th>3</th>\n",
       "      <td>5</td>\n",
       "      <td>277348</td>\n",
       "      <td>The paradox of Pope Francis</td>\n",
       "      <td>National Catholic Reporter</td>\n",
       "      <td>2013</td>\n",
       "      <td>The Independent News Source. The paradox of P...</td>\n",
       "      <td>[('Italy', 2), ('France', 1), ('Germany', 1), ...</td>\n",
       "      <td>True</td>\n",
       "      <td>The Independent News Source. The paradox of P...</td>\n",
       "      <td>The Independent News Source . The paradox Pope...</td>\n",
       "      <td>The Independent News Source The paradox Pope F...</td>\n",
       "    </tr>\n",
       "    <tr>\n",
       "      <th>4</th>\n",
       "      <td>6</td>\n",
       "      <td>177275</td>\n",
       "      <td>We must emulate the example of Jesus during Ho...</td>\n",
       "      <td>National Catholic Reporter</td>\n",
       "      <td>2013</td>\n",
       "      <td>We must emulate the example of Jesus during H...</td>\n",
       "      <td>[('United Kingdom', 1), ('Israel', 1), ('Portu...</td>\n",
       "      <td>True</td>\n",
       "      <td>We must emulate the example of Jesus during H...</td>\n",
       "      <td>We must emulate example Jesus Holy Week underg...</td>\n",
       "      <td>We must emulate example Jesus Holy Week underg...</td>\n",
       "    </tr>\n",
       "  </tbody>\n",
       "</table>\n",
       "</div>"
      ],
      "text/plain": [
       "   Unnamed: 0  article_id                                      article_title  \\\n",
       "0           1     2047596             Francis and the 'Culture of Encounter'   \n",
       "1           2      109921     Papabile of the Day: The Men Who Could Be Pope   \n",
       "2           3       73202          We can become God's prophets through love   \n",
       "3           5      277348                        The paradox of Pope Francis   \n",
       "4           6      177275  We must emulate the example of Jesus during Ho...   \n",
       "\n",
       "                    publisher  year  \\\n",
       "0  National Catholic Reporter  2013   \n",
       "1  National Catholic Reporter  2013   \n",
       "2  National Catholic Reporter  2013   \n",
       "3  National Catholic Reporter  2013   \n",
       "4  National Catholic Reporter  2013   \n",
       "\n",
       "                                        article_text  \\\n",
       "0   Francis and the' Culture of Encounter'. All p...   \n",
       "1   Papabile of the Day The Men Who Could Be Pope...   \n",
       "2   We can become God's prophets through love. Th...   \n",
       "3   The Independent News Source. The paradox of P...   \n",
       "4   We must emulate the example of Jesus during H...   \n",
       "\n",
       "                                     country_mention  Domestic  \\\n",
       "0  [('Italy', 1), ('Brazil', 1), ('China', 1), ('...      True   \n",
       "1  [('United Kingdom', 1), ('United States', 1), ...      True   \n",
       "2  [('United States', 1), ('Canada', 1), ('Hungar...      True   \n",
       "3  [('Italy', 2), ('France', 1), ('Germany', 1), ...      True   \n",
       "4  [('United Kingdom', 1), ('Israel', 1), ('Portu...      True   \n",
       "\n",
       "                                  article_text_Ngram  \\\n",
       "0   Francis and the' Culture of Encounter'. All p...   \n",
       "1   Papabile of the Day The Men Who Could Be Pope...   \n",
       "2   We can become God's prophets through love. Th...   \n",
       "3   The Independent News Source. The paradox of P...   \n",
       "4   We must emulate the example of Jesus during H...   \n",
       "\n",
       "                         article_text_Ngram_stopword  \\\n",
       "0  Francis ' Culture Encounter ' . All popes tend...   \n",
       "1  Papabile Day The Men Who Could Be Pope . John ...   \n",
       "2  We become God 's prophets love . The first les...   \n",
       "3  The Independent News Source . The paradox Pope...   \n",
       "4  We must emulate example Jesus Holy Week underg...   \n",
       "\n",
       "               article_text_Ngram_stopword_lemmatize  \n",
       "0  Francis Culture Encounter All pope tend couple...  \n",
       "1  Papabile Day The Men Who Could Be Pope John Al...  \n",
       "2  We become God 's prophet love The first lesson...  \n",
       "3  The Independent News Source The paradox Pope F...  \n",
       "4  We must emulate example Jesus Holy Week underg...  "
      ]
     },
     "execution_count": 87,
     "metadata": {},
     "output_type": "execute_result"
    }
   ],
   "source": [
    "us = pd.read_csv('/Users/Rebecca/Desktop/PEACE/data/5_domestic_filter_Ngram_stopwords_lemmatize/US_domestic_Ngram_stopword_lematize.csv')\n",
    "print(len(us))\n",
    "us.head()"
   ]
  },
  {
   "cell_type": "code",
   "execution_count": 88,
   "id": "1b2cbed6",
   "metadata": {},
   "outputs": [],
   "source": [
    "#US\n",
    "text = us['article_text_Ngram']\n",
    "us['text']=\"\"\n",
    "us['text_2']=\"\""
   ]
  },
  {
   "cell_type": "code",
   "execution_count": null,
   "id": "2618129b",
   "metadata": {},
   "outputs": [],
   "source": [
    "us['text']=text.apply(remove_place)\n",
    "us['text_2']=us['text'].apply(remove_names)\n",
    "us = us.drop(columns=['text'])"
   ]
  },
  {
   "cell_type": "code",
   "execution_count": null,
   "id": "b45ce7ac",
   "metadata": {},
   "outputs": [],
   "source": [
    "#save no named entities  data to csv\n",
    "us.to_csv(\"US2.csv\")"
   ]
  },
  {
   "cell_type": "code",
   "execution_count": null,
   "id": "5ec4bef4",
   "metadata": {},
   "outputs": [],
   "source": [
    "US_word = pd.DataFrame(columns=['word','frequency'])\n",
    "Text = ' '.join(us['text_2'].tolist())\n",
    "Text=re.sub(r'[^\\w\\s]', '', Text)"
   ]
  },
  {
   "cell_type": "code",
   "execution_count": null,
   "id": "92f244e5",
   "metadata": {},
   "outputs": [],
   "source": [
    "US_word['word'] = top_words(Text)\n",
    "US_word['frequency']=top_words_freq(Text)"
   ]
  },
  {
   "cell_type": "code",
   "execution_count": null,
   "id": "05b32c6f",
   "metadata": {},
   "outputs": [],
   "source": [
    "US_word.to_csv(\"US_word.csv\")"
   ]
  }
 ],
 "metadata": {
  "kernelspec": {
   "display_name": "Python 3 (ipykernel)",
   "language": "python",
   "name": "python3"
  },
  "language_info": {
   "codemirror_mode": {
    "name": "ipython",
    "version": 3
   },
   "file_extension": ".py",
   "mimetype": "text/x-python",
   "name": "python",
   "nbconvert_exporter": "python",
   "pygments_lexer": "ipython3",
   "version": "3.9.7"
  }
 },
 "nbformat": 4,
 "nbformat_minor": 5
}
